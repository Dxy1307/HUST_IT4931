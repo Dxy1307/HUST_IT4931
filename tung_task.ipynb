{
 "cells": [
  {
   "cell_type": "code",
   "execution_count": null,
   "metadata": {},
   "outputs": [],
   "source": [
    "from pyspark.sql import SparkSession\n",
    "\n",
    "spark = SparkSession.builder \\\n",
    "                .appName(\"BatchAnalysis\")\\\n",
    "                .config(\"spark.driver.memory\", \"12g\")\\\n",
    "                .getOrCreate()\n",
    "\n",
    "df = spark.read.csv(\"./datasets/2019-Nov.csv\", header=True, inferSchema=True)\n"
   ]
  },
  {
   "cell_type": "markdown",
   "metadata": {},
   "source": [
    "Phân tích tỉ lệ người dùng xem hàng rồi mua sản phẩm, người dùng xem không mua, người dùng thêm giỏ hàng"
   ]
  },
  {
   "cell_type": "code",
   "execution_count": 4,
   "metadata": {},
   "outputs": [],
   "source": [
    "view_events = df.filter(df.event_type == \"view\")\n",
    "cart_events = df.filter(df.event_type == \"cart\")\n",
    "purchase_events = df.filter(df.event_type == \"purchase\")"
   ]
  },
  {
   "cell_type": "code",
   "execution_count": 7,
   "metadata": {},
   "outputs": [
    {
     "name": "stdout",
     "output_type": "stream",
     "text": [
      "+-------------------+----------+----------+-------------------+--------------------+-------+------+---------+--------------------+\n",
      "|         event_time|event_type|product_id|        category_id|       category_code|  brand| price|  user_id|        user_session|\n",
      "+-------------------+----------+----------+-------------------+--------------------+-------+------+---------+--------------------+\n",
      "|2019-11-14 14:57:26|      view|  17800204|2053013559868129947|   computers.desktop|   zeta| 33.44|474593321|4c95a39e-9262-44f...|\n",
      "|2019-11-11 21:08:04|      view|   1004833|2053013555631882655|electronics.smart...|samsung|169.17|510670517|75a57afc-21d9-4a7...|\n",
      "|2019-11-20 15:58:46|      view|   1004833|2053013555631882655|electronics.smart...|samsung| 170.3|510670517|811791b0-dcf5-4ef...|\n",
      "|2019-11-21 17:19:37|      view|   1004833|2053013555631882655|electronics.smart...|samsung|170.25|510670517|43f3cdd7-7e81-4bd...|\n",
      "|2019-11-12 12:59:47|      view|   5100576|2053013553341792533|  electronics.clocks|  apple|420.36|510670517|f9450a4b-c9bb-4af...|\n",
      "|2019-11-12 15:12:27|      view|   5100576|2053013553341792533|  electronics.clocks|  apple|420.36|510670517|f9450a4b-c9bb-4af...|\n",
      "|2019-11-26 19:27:13|      view|   5100576|2053013553341792533|  electronics.clocks|  apple|488.04|510670517|d8044000-7ce7-4f2...|\n",
      "|2019-11-26 19:27:27|      view|   5100576|2053013553341792533|  electronics.clocks|  apple|488.04|510670517|d8044000-7ce7-4f2...|\n",
      "|2019-11-03 17:58:34|      view|   1004833|2053013555631882655|electronics.smart...|samsung|170.08|512363921|5be30c96-e14f-4d3...|\n",
      "|2019-11-16 17:46:39|      view|   1004833|2053013555631882655|electronics.smart...|samsung|179.16|512363921|767fad58-d1cb-4b7...|\n",
      "+-------------------+----------+----------+-------------------+--------------------+-------+------+---------+--------------------+\n",
      "only showing top 10 rows\n",
      "\n",
      "Tỉ lệ người dùng xem và mua sản phẩm: 0.0637132606\n"
     ]
    }
   ],
   "source": [
    "condition = (view_events.user_id == purchase_events. user_id) & (view_events.product_id == purchase_events.product_id)\n",
    "view_and_purchase = view_events.join(purchase_events,condition,\"left_semi\")\\\n",
    "                                .distinct()\n",
    "view_and_purchase.show(10)\n",
    "\n",
    "total_view = view_events.count()\n",
    "users_view_and_purchase = view_and_purchase.count()\n",
    "ratio_view_and_purchase = users_view_and_purchase / total_view\n",
    "print(f\"Tỉ lệ người dùng xem và mua sản phẩm: {ratio_view_and_purchase:.10f}\")"
   ]
  },
  {
   "cell_type": "code",
   "execution_count": 6,
   "metadata": {},
   "outputs": [
    {
     "name": "stdout",
     "output_type": "stream",
     "text": [
      "Tỉ lệ người dùng xem và không mua sản phẩm: 0.9362615962\n"
     ]
    }
   ],
   "source": [
    "view_not_purchase = view_events.join(purchase_events, condition, \"left_anti\")\\\n",
    "                            .distinct()\n",
    "\n",
    "users_view_not_purchase = view_not_purchase.count()\n",
    "ratio_view_not_purchase = users_view_not_purchase / total_view\n",
    "print(f\"Tỉ lệ người dùng xem và không mua sản phẩm: {ratio_view_not_purchase:.10f}\")"
   ]
  },
  {
   "cell_type": "code",
   "execution_count": 8,
   "metadata": {},
   "outputs": [
    {
     "name": "stdout",
     "output_type": "stream",
     "text": [
      "Tỉ lệ người dùng xem và thêm vào giỏ hàng: 0.3820637701\n"
     ]
    }
   ],
   "source": [
    "condition2 = (view_events.user_id == cart_events. user_id) & (view_events.product_id == cart_events.product_id)\n",
    "view_and_add_to_cart = view_events.join(cart_events,condition2,\"inner\")\\\n",
    "                                    .distinct()\n",
    "\n",
    "users_view_and_add_to_cart = view_and_add_to_cart.count()\n",
    "ratio_view_and_add_to_cart = users_view_and_add_to_cart / total_view\n",
    "print(f\"Tỉ lệ người dùng xem và thêm vào giỏ hàng: {ratio_view_and_add_to_cart:.10f}\")"
   ]
  }
 ],
 "metadata": {
  "kernelspec": {
   "display_name": "py310",
   "language": "python",
   "name": "python3"
  },
  "language_info": {
   "codemirror_mode": {
    "name": "ipython",
    "version": 3
   },
   "file_extension": ".py",
   "mimetype": "text/x-python",
   "name": "python",
   "nbconvert_exporter": "python",
   "pygments_lexer": "ipython3",
   "version": "3.10.15"
  }
 },
 "nbformat": 4,
 "nbformat_minor": 2
}
