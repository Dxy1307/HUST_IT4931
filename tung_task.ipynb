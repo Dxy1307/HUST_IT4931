{
 "cells": [
  {
   "cell_type": "code",
   "execution_count": 2,
   "metadata": {},
   "outputs": [],
   "source": [
    "from pyspark.sql import SparkSession\n",
    "\n",
    "spark = SparkSession.builder \\\n",
    "                .appName(\"BatchAnalysis\")\\\n",
    "                .config(\"spark.driver.memory\", \"12g\")\\\n",
    "                .getOrCreate()\n",
    "\n",
    "df = spark.read.csv(\"./datasets/2019-Nov-100.csv\", header=True, inferSchema=True)\n"
   ]
  },
  {
   "cell_type": "code",
   "execution_count": 2,
   "metadata": {},
   "outputs": [
    {
     "name": "stdout",
     "output_type": "stream",
     "text": [
      "root\n",
      " |-- event_time: timestamp (nullable = true)\n",
      " |-- event_type: string (nullable = true)\n",
      " |-- product_id: integer (nullable = true)\n",
      " |-- category_id: long (nullable = true)\n",
      " |-- category_code: string (nullable = true)\n",
      " |-- brand: string (nullable = true)\n",
      " |-- price: double (nullable = true)\n",
      " |-- user_id: integer (nullable = true)\n",
      " |-- user_session: string (nullable = true)\n",
      "\n",
      "+-------+----------+--------------------+--------------------+-------------------+--------+------------------+--------------------+--------------------+\n",
      "|summary|event_type|          product_id|         category_id|      category_code|   brand|             price|             user_id|        user_session|\n",
      "+-------+----------+--------------------+--------------------+-------------------+--------+------------------+--------------------+--------------------+\n",
      "|  count|    200000|              200000|              200000|             133358|  169680|            200000|              200000|              200000|\n",
      "|   mean|      NULL|    1.087839266145E7|2.057709921855578...|               NULL|Infinity|284.66488350000105|  5.35108652127235E8|                NULL|\n",
      "| stddev|      NULL|1.2023458771167932E7|1.929992874730067...|               NULL|     NaN|344.24027649905395|2.0276320110941783E7|                NULL|\n",
      "|    min|      cart|             1000978| 2053013552226107603|    accessories.bag|  a-case|               0.0|           275256741|000201a5-a363-4fd...|\n",
      "|    max|      view|            60500006| 2180736567012753620|stationery.cartrige|    zuru|           2574.07|           566327720|fffd5f44-27c1-431...|\n",
      "+-------+----------+--------------------+--------------------+-------------------+--------+------------------+--------------------+--------------------+\n",
      "\n"
     ]
    }
   ],
   "source": [
    "df.printSchema()\n",
    "df.describe().show()"
   ]
  },
  {
   "cell_type": "markdown",
   "metadata": {},
   "source": [
    "Phân tích tỉ lệ người dùng xem hàng rồi mua sản phẩm, người dùng xem không mua, người dùng thêm giỏ hàng"
   ]
  },
  {
   "cell_type": "code",
   "execution_count": 3,
   "metadata": {},
   "outputs": [],
   "source": [
    "view_events = df.filter(df.event_type == \"view\")\n",
    "cart_events = df.filter(df.event_type == \"cart\")\n",
    "purchase_events = df.filter(df.event_type == \"purchase\")"
   ]
  },
  {
   "cell_type": "code",
   "execution_count": 4,
   "metadata": {},
   "outputs": [
    {
     "name": "stdout",
     "output_type": "stream",
     "text": [
      "+-------------------+----------+----------+-------------------+--------------------+-------+------+---------+--------------------+\n",
      "|         event_time|event_type|product_id|        category_id|       category_code|  brand| price|  user_id|        user_session|\n",
      "+-------------------+----------+----------+-------------------+--------------------+-------+------+---------+--------------------+\n",
      "|2019-11-01 07:22:35|      view|   4804056|2053013554658804075|electronics.audio...|  apple|160.57|520214844|47f0b244-18c9-4bf...|\n",
      "|2019-11-01 07:23:14|      view|   4804056|2053013554658804075|electronics.audio...|  apple|160.57|520214844|47f0b244-18c9-4bf...|\n",
      "|2019-11-01 07:26:01|      view|   4804056|2053013554658804075|electronics.audio...|  apple|160.57|520214844|47f0b244-18c9-4bf...|\n",
      "|2019-11-01 07:26:51|      view|   4804056|2053013554658804075|electronics.audio...|  apple|160.57|520214844|47f0b244-18c9-4bf...|\n",
      "|2019-11-01 07:29:55|      view|   4000170|2053013566142809077|construction.tool...|  tefal|167.29|514101034|16dd8ceb-01f6-427...|\n",
      "|2019-11-01 07:34:03|      view|   4000170|2053013566142809077|construction.tool...|  tefal|167.29|514101034|16dd8ceb-01f6-427...|\n",
      "|2019-11-01 10:08:03|      view|   1004209|2053013555631882655|electronics.smart...|samsung| 88.29|560328829|3baabe9b-bfb2-4c1...|\n",
      "|2019-11-01 10:11:36|      view|   2800587|2053013563835941749|appliances.kitche...|indesit|308.61|518665898|9857c185-3be8-4fd...|\n",
      "|2019-11-01 10:20:19|      view|   1004648|2053013555631882655|electronics.smart...|samsung| 589.2|517459890|db19b136-8970-4db...|\n",
      "|2019-11-01 10:20:36|      view|   1004648|2053013555631882655|electronics.smart...|samsung| 589.2|517459890|db19b136-8970-4db...|\n",
      "+-------------------+----------+----------+-------------------+--------------------+-------+------+---------+--------------------+\n",
      "only showing top 10 rows\n",
      "\n",
      "Tỉ lệ người dùng xem và mua sản phẩm: 0.0526558657\n"
     ]
    }
   ],
   "source": [
    "condition = (view_events.user_id == purchase_events. user_id) & (view_events.product_id == purchase_events.product_id)\n",
    "view_and_purchase = view_events.join(purchase_events,condition,\"left_semi\")\\\n",
    "                                .distinct()\n",
    "view_and_purchase.show(10)\n",
    "\n",
    "total_view = view_events.count()\n",
    "users_view_and_purchase = view_and_purchase.count()\n",
    "ratio_view_and_purchase = users_view_and_purchase / total_view\n",
    "print(f\"Tỉ lệ người dùng xem và mua sản phẩm: {ratio_view_and_purchase:.10f}\")"
   ]
  },
  {
   "cell_type": "markdown",
   "metadata": {},
   "source": [
    "thời gian chạy hết khoảng 1m"
   ]
  },
  {
   "cell_type": "code",
   "execution_count": 5,
   "metadata": {},
   "outputs": [
    {
     "name": "stdout",
     "output_type": "stream",
     "text": [
      "Tỉ lệ người dùng xem và không mua sản phẩm: 0.9512134720\n"
     ]
    }
   ],
   "source": [
    "view_not_purchase = view_events.join(purchase_events, condition, \"left_anti\")\\\n",
    "                            .distinct()\n",
    "\n",
    "users_view_not_purchase = view_not_purchase.count()\n",
    "ratio_view_not_purchase = users_view_not_purchase / total_view\n",
    "print(f\"Tỉ lệ người dùng xem và không mua sản phẩm: {ratio_view_not_purchase:.10f}\")"
   ]
  },
  {
   "cell_type": "code",
   "execution_count": 6,
   "metadata": {},
   "outputs": [
    {
     "name": "stdout",
     "output_type": "stream",
     "text": [
      "Tỉ lệ người dùng xem và thêm vào giỏ hàng: 0.0480642232\n"
     ]
    }
   ],
   "source": [
    "condition2 = (view_events.user_id == cart_events. user_id) & (view_events.product_id == cart_events.product_id)\n",
    "view_and_add_to_cart = view_events.join(cart_events,condition2,\"inner\")\\\n",
    "                                    .distinct()\n",
    "\n",
    "users_view_and_add_to_cart = view_and_add_to_cart.count()\n",
    "ratio_view_and_add_to_cart = users_view_and_add_to_cart / total_view\n",
    "print(f\"Tỉ lệ người dùng xem và thêm vào giỏ hàng: {ratio_view_and_add_to_cart:.10f}\")"
   ]
  },
  {
   "cell_type": "code",
   "execution_count": null,
   "metadata": {},
   "outputs": [],
   "source": [
    "# Sử dụng Partition pruning, bucketing và caching\n",
    "# Bucket dữ liệu\n",
    "#Thích hợp khi cần join hoặc aggregation bảng\n",
    "df.write \\\n",
    "    .bucketBy(10, \"user_id\", \"product_id\") \\\n",
    "    .sortBy(\"user_id\", \"product_id\") \\\n",
    "    .mode(\"overwrite\") \\\n",
    "    .format(\"parquet\") \\\n",
    "    .option(\"path\", \"/datasets\") \\\n",
    "    .saveAsTable(\"bucketed_product_user\")\n"
   ]
  },
  {
   "cell_type": "code",
   "execution_count": null,
   "metadata": {},
   "outputs": [],
   "source": [
    "# Ghi dữ liệu với partition theo event_type\n",
    "#Thích hợp khi cần đọc ghi dữ liệu cần filter\n",
    "df.write \\\n",
    "    .partitionBy(\"event_type\") \\\n",
    "    .mode(\"overwrite\") \\\n",
    "    .parquet(\"./datasets/partitioned_event_type\")\n"
   ]
  },
  {
   "cell_type": "code",
   "execution_count": null,
   "metadata": {},
   "outputs": [],
   "source": [
    "# Đọc dữ liệu với Partition Pruning\n",
    "view_events_partition = spark.read.parquet(\"./datasets/partitioned_event_type\").filter(\"event_type = 'view'\")\n",
    "purchase_events_partition = spark.read.parquet(\"./datasets/partitioned_event_type\").filter(\"event_type = 'purchase'\")\n"
   ]
  },
  {
   "cell_type": "code",
   "execution_count": null,
   "metadata": {},
   "outputs": [
    {
     "name": "stdout",
     "output_type": "stream",
     "text": [
      "Tỉ lệ người dùng xem và mua sản phẩm: 0.0912348219\n"
     ]
    }
   ],
   "source": [
    "\n",
    "# Khi đọc dữ liệu từ bảng đã được bucket thì spark sẽ tự tối ưu join\n",
    "view_events_bucketed = spark.read.table(\"bucketed_product_user\").filter(\"event_type = 'view'\").cache()\n",
    "purchase_events_bucketed = spark.read.table(\"bucketed_product_user\").filter(\"event_type = 'purchase'\").cache()\n",
    "\n",
    "condition = (view_events_bucketed.user_id == purchase_events_bucketed.user_id) & \\\n",
    "            (view_events_bucketed.product_id == purchase_events_bucketed.product_id)\n",
    "\n",
    "view_and_purchase_bucketed = view_events_bucketed.join(purchase_events_bucketed, condition, \"inner\").distinct()\n",
    "\n",
    "# Tính toán tỷ lệ\n",
    "total_view = view_events_bucketed.count()\n",
    "users_view_and_purchase = view_and_purchase_bucketed.count()\n",
    "ratio_view_and_purchase = users_view_and_purchase / total_view\n",
    "\n",
    "print(f\"Tỉ lệ người dùng xem và mua sản phẩm: {ratio_view_and_purchase:.10f}\")"
   ]
  },
  {
   "cell_type": "markdown",
   "metadata": {},
   "source": [
    "thời gian chạy còn khoảng 20s"
   ]
  },
  {
   "cell_type": "code",
   "execution_count": null,
   "metadata": {},
   "outputs": [],
   "source": [
    "# xóa khỏi cache\n",
    "view_events_bucketed.unpersist()\n",
    "purchase_events_bucketed.unpersist()"
   ]
  }
 ],
 "metadata": {
  "kernelspec": {
   "display_name": "py310",
   "language": "python",
   "name": "python3"
  },
  "language_info": {
   "codemirror_mode": {
    "name": "ipython",
    "version": 3
   },
   "file_extension": ".py",
   "mimetype": "text/x-python",
   "name": "python",
   "nbconvert_exporter": "python",
   "pygments_lexer": "ipython3",
   "version": "3.10.15"
  }
 },
 "nbformat": 4,
 "nbformat_minor": 2
}
